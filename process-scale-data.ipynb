{
 "cells": [
  {
   "cell_type": "code",
   "execution_count": null,
   "metadata": {},
   "outputs": [],
   "source": [
    "# imports\n",
    "import math\n",
    "import numpy as np\n",
    "import pandas as pd\n",
    "from fit import FitEncoder_Weight\n",
    "from datetime import datetime"
   ]
  },
  {
   "cell_type": "markdown",
   "metadata": {},
   "source": [
    "### Get the data from Wyze\n",
    "\n",
    "In the Wyze app, go the the scale and click on the gear in the upper right. Choose Expoer Data and have the data emailed to you.\n",
    "\n",
    "It will arrive as an XLSX file. Open that in Excel or Numbers and export it as CSV; call it `scale-data.csv`.\n",
    "\n",
    "### Process the data\n",
    "\n",
    "Put the CSV in the same directory as this notebook and run the following cells.\n",
    "\n",
    "NOTE: If you encounter errors, there may be unexpected data in th CSV. Make sure that:\n",
    "\n",
    "* There are no rows that have non-data entries like `- -`\n",
    "* Make sure that the CSV file has the column names as the first row, then the data. And nothing else. No “sheet headers” or other kinds of Wyze data at the end."
   ]
  },
  {
   "cell_type": "code",
   "execution_count": null,
   "metadata": {},
   "outputs": [],
   "source": [
    "# load weight data\n",
    "rm_lb = lambda x: (float(x.replace('lb','')))\n",
    "rm_pct = lambda x: (float(x.replace('%','')))\n",
    "weight_data = pd.read_csv(\n",
    "    \"scale-data.csv\",\n",
    "    parse_dates=['Date and Time'],\n",
    "    converters={\n",
    "        \"Weight\": rm_lb,\n",
    "        \"Body Fat\": rm_pct,\n",
    "        \"Muscle Mass\": rm_lb,\n",
    "        \"Body Water\": rm_pct,\n",
    "        \"Lean Body Mass\": rm_lb,\n",
    "        \"Bone Mass\": rm_lb,\n",
    "        \"Muscle Mass\": rm_lb,\n",
    "        \"Protein\": rm_pct,\n",
    "    },\n",
    "    dtype={\n",
    "        \"BMI\": np.float64,\n",
    "        \"Visceral Fat\": np.float64,\n",
    "        \"BMR\": np.float64,\n",
    "    }\n",
    ")\n",
    "weight_data.rename(\n",
    "    inplace = True,\n",
    "\tcolumns = { 'Date and Time': 'time' }\n",
    ")\n",
    "\n",
    "# weight_data\n"
   ]
  },
  {
   "cell_type": "markdown",
   "metadata": {},
   "source": [
    "### Select the data you want (optional)\n",
    "\n",
    "Set the start and end dates for the data you want."
   ]
  },
  {
   "cell_type": "code",
   "execution_count": null,
   "metadata": {},
   "outputs": [],
   "source": [
    "weight_data =\tweight_data[\n",
    "\t\t\t\t\t(weight_data.time > datetime(2023, 7, 21))\n",
    "\t\t\t\t\t& \n",
    "\t\t\t\t\t(weight_data.time < datetime(2023, 9, 13))\n",
    "\t\t\t\t]\n",
    "# weight_data"
   ]
  },
  {
   "cell_type": "markdown",
   "metadata": {},
   "source": [
    "### Create the FIT file\n",
    "\n",
    "This is one of the formats that Garmin Connect will let you upload."
   ]
  },
  {
   "cell_type": "code",
   "execution_count": null,
   "metadata": {},
   "outputs": [],
   "source": [
    "fit = FitEncoder_Weight()\n",
    "fit.write_file_info(time_created = int(weight_data.time.max().timestamp()))\n",
    "fit.write_file_creator()\n",
    "fit.write_device_info(timestamp = int(weight_data.time.max().timestamp()))\n",
    "\n",
    "for i, d in weight_data.iterrows():\n",
    "    # fit.write_device_info(\n",
    "    #     timestamp = int(d[\"time\"].timestamp())\n",
    "    # )\n",
    "    fit.write_weight_scale(\n",
    "        timestamp = math.trunc(d[\"time\"].timestamp()),\n",
    "        weight = float(d[\"Weight\"] * 0.45359237), # convert to kilograms\n",
    "        percent_fat = d[\"Body Fat\"],\n",
    "        percent_hydration = d[\"Body Water\"],\n",
    "        visceral_fat_mass = d[\"Visceral Fat\"],\n",
    "        bone_mass = d[\"Bone Mass\"],\n",
    "        muscle_mass = d[\"Muscle Mass\"],\n",
    "        basal_met = d[\"BMR\"],\n",
    "        physique_rating = 6,\n",
    "        active_met = int(d[\"BMR\"] * 1.25),\n",
    "        metabolic_age = d[\"Metabolic Age\"],\n",
    "        visceral_fat_rating = d[\"Body Fat\"],\n",
    "        bmi = d[\"BMI\"]\n",
    "    )\n",
    "\n",
    "fit.finish()\n",
    "\n",
    "# print(fit.getvalue()) # not super useful, but proves there's something in there\n",
    "\n",
    "try:\n",
    "    with open(\"wyze_scale.fit\", \"wb\") as fitfile:\n",
    "        fitfile.write(fit.getvalue())\n",
    "        print(\"Fit file wyze_scale.fit created\")\n",
    "except OSError as e:\n",
    "    print(f\"Got an error: {e}\")\n"
   ]
  },
  {
   "cell_type": "markdown",
   "metadata": {},
   "source": [
    "### Upload the file\n",
    "\n",
    "Log in to Garmin Connect and click on the cloud/arrow icon in the upper right and upload this file."
   ]
  },
  {
   "cell_type": "markdown",
   "metadata": {},
   "source": []
  }
 ],
 "metadata": {
  "kernelspec": {
   "display_name": "base",
   "language": "python",
   "name": "python3"
  },
  "language_info": {
   "codemirror_mode": {
    "name": "ipython",
    "version": 3
   },
   "file_extension": ".py",
   "mimetype": "text/x-python",
   "name": "python",
   "nbconvert_exporter": "python",
   "pygments_lexer": "ipython3",
   "version": "3.11.3"
  },
  "orig_nbformat": 4
 },
 "nbformat": 4,
 "nbformat_minor": 2
}
